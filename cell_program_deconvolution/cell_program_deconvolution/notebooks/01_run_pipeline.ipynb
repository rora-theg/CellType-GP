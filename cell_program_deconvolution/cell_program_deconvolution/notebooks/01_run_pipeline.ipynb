{
 "cells": [
  {
   "cell_type": "markdown",
   "metadata": {},
   "source": [
    "# 细胞类型特异性基因程序反卷积完整Pipeline"
   ]
  },
  {
   "cell_type": "code",
   "execution_count": null,
   "metadata": {},
   "outputs": [],
   "source": [
    "import numpy as np
",
    "import torch
",
    "from deconvolution.model import DeconvModel
",
    "from deconvolution.graph_utils import build_laplacian
",
    "from deconvolution.train import train_model
",
    "from deconvolution.visualize import plot_spatial, plot_program_contribution"
   ]
  },
  {
   "cell_type": "code",
   "execution_count": null,
   "metadata": {},
   "outputs": [],
   "source": [
    "# Step 1: Load example data
",
    "data = np.load("../data/example_inputs.npz")
",
    "Y = torch.tensor(data["Y"], dtype=torch.float32)         # (P, S)
",
    "X = torch.tensor(data["X"], dtype=torch.float32)         # (S, T)
",
    "coords = data["coords"]                                  # (S, 2)
",
    "
",
    "P, S = Y.shape
",
    "S_, T = X.shape
",
    "assert S == S_
",
    "
",
    "L = build_laplacian(coords, k=6)
",
    "model = DeconvModel(T=T, P=P, S=S, X_tensor=X, L=L)"
   ]
  },
  {
   "cell_type": "code",
   "execution_count": null,
   "metadata": {},
   "outputs": [],
   "source": [
    "# Step 2: Train model
",
    "train_model(model, Y_obs=Y, num_epochs=2000)"
   ]
  },
  {
   "cell_type": "code",
   "execution_count": null,
   "metadata": {},
   "outputs": [],
   "source": [
    "# Step 3: Visualize results
",
    "Y_tps = model.Y_tps.detach()
",
    "plot_spatial(Y_tps, coords, cell_type=0, program_index=3)
",
    "plot_program_contribution(Y_tps, program_index=3)"
   ]
  }
 ],
 "metadata": {
  "kernelspec": {
   "display_name": "Python 3",
   "language": "python",
   "name": "python3"
  },
  "language_info": {
   "name": "python",
   "version": "3.8"
  }
 },
 "nbformat": 4,
 "nbformat_minor": 4
}
