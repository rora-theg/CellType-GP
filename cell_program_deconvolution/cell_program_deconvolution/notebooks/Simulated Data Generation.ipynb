{
 "cells": [
  {
   "cell_type": "code",
   "execution_count": 4,
   "id": "92b17c45-e9a6-4828-a1ba-fd7786ac2cbb",
   "metadata": {},
   "outputs": [
    {
     "data": {
      "text/plain": [
       "'../data/structured_inputs.npz'"
      ]
     },
     "execution_count": 4,
     "metadata": {},
     "output_type": "execute_result"
    }
   ],
   "source": [
    "import numpy as np\n",
    "\n",
    "# 设置随机种子确保可复现\n",
    "np.random.seed(42)\n",
    "\n",
    "# 基本参数\n",
    "P = 5   # 程序数量\n",
    "S = 100  # spot 数量\n",
    "T = 4   # 细胞类型数量\n",
    "\n",
    "# 模拟坐标：在二维空间中有一定结构，比如两个区域聚类\n",
    "coords = np.zeros((S, 2))\n",
    "coords[:S//2] = np.random.normal(loc=[30, 30], scale=5, size=(S//2, 2))  # 区域1\n",
    "coords[S//2:] = np.random.normal(loc=[70, 70], scale=5, size=(S//2, 2))  # 区域2\n",
    "\n",
    "# 模拟细胞类型比例矩阵 X (S, T)，每个 spot 的细胞组成有空间依赖\n",
    "X = np.zeros((S, T))\n",
    "for i in range(S):\n",
    "    if coords[i, 0] < 50:\n",
    "        X[i] = np.random.dirichlet([0.7, 0.2, 0.05, 0.05])\n",
    "    else:\n",
    "        X[i] = np.random.dirichlet([0.05, 0.1, 0.6, 0.25])\n",
    "\n",
    "# 设定每种细胞类型对每个程序的典型激活水平 (T, P)\n",
    "Y_profile = np.array([\n",
    "    [2.0, 1.5, 0.2, 0.1, 0],  # cell type 0\n",
    "    [0, 0.1, 1.8, 0.2, 0.2],  # cell type 1\n",
    "    [0, 0.1, 0.2, 2.0, 1.5],  # cell type 2\n",
    "    [0, 0.3, 0.3, 0.3, 0.3]   # cell type 3\n",
    "])\n",
    "\n",
    "# 构造 Y = X @ Y_profile + 噪声\n",
    "Y = X @ Y_profile  # (S, T) × (T, P) = (S, P)\n",
    "Y += np.random.normal(scale=0.1, size=Y.shape)\n",
    "Y = Y.T  # 转置为 (P, S)\n",
    "\n",
    "# 保存为新的示例文件\n",
    "save_path = \"../data/structured_inputs.npz\"\n",
    "np.savez(save_path, Y=Y, X=X, coords=coords)\n",
    "\n",
    "save_path"
   ]
  }
 ],
 "metadata": {
  "kernelspec": {
   "display_name": "pytorch_pyg",
   "language": "python",
   "name": "pytorch_pyg"
  },
  "language_info": {
   "codemirror_mode": {
    "name": "ipython",
    "version": 3
   },
   "file_extension": ".py",
   "mimetype": "text/x-python",
   "name": "python",
   "nbconvert_exporter": "python",
   "pygments_lexer": "ipython3",
   "version": "3.10.16"
  }
 },
 "nbformat": 4,
 "nbformat_minor": 5
}
